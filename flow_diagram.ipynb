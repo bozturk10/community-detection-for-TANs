{
 "cells": [
  {
   "cell_type": "code",
   "execution_count": null,
   "metadata": {
    "id": "VRLDrg7SSng1"
   },
   "outputs": [],
   "source": [
    "\"\"\"\n",
    "!pip3 install -U kaleido\n",
    "!pip3 install networkx\n",
    "\"\"\"\n",
    "\n",
    "import pandas as pd\n",
    "import numpy as np\n",
    "\n",
    "from utils import get_modularity_communities,get_edge_matrice,plot_edge_matrice,get_sbm_model_blocks\n",
    "modularity_blocks=get_modularity_communities()\n",
    "sbm_blocks_df=pd.read_csv(\"sbm_blocks.csv\")\n",
    "dcsbm_blocks_df=pd.read_csv(\"dcsbm_blocks.csv\")"
   ]
  },
  {
   "cell_type": "markdown",
   "metadata": {
    "id": "ZqJy2bXv0xmP"
   },
   "source": [
    "# Generate Sankey Charts"
   ]
  },
  {
   "cell_type": "code",
   "execution_count": null,
   "metadata": {
    "colab": {
     "base_uri": "https://localhost:8080/",
     "height": 542
    },
    "id": "cSXGoYxxYrtx",
    "outputId": "8a7887df-a8f8-4396-894c-5355a13ba7df"
   },
   "outputs": [],
   "source": [
    "def get_sankey_data(from_df,to_df):\n",
    "\n",
    "    df=pd.merge(from_df,to_df,on=\"NGO\",suffixes=(\"_from\",\"_to\"))\n",
    "\n",
    "\n",
    "    a=df.groupby(['block_id_from','block_id_to']).count().reset_index()\n",
    "    label_list= a.block_id_from.unique().tolist() + a.block_id_to.unique().tolist()\n",
    "    label_index=dict(zip(label_list,range(0,len(label_list))))\n",
    "    source= a.block_id_from.tolist()\n",
    "    target= a.block_id_to.tolist()\n",
    "\n",
    "    source=[label_index[s] for s in source]\n",
    "    target=[label_index[t] for t in target]\n",
    "    value=a.NGO.values\n",
    "\n",
    "    return source,target,value,label_list\n",
    "\n",
    "\n",
    "\n",
    "def save_sankey_chart_from_to(from_df,to_df,title):\n",
    "    source,target,value,label_list=get_sankey_data(from_df,to_df)\n",
    "\n",
    "    import matplotlib\n",
    "    import plotly.graph_objects as go\n",
    "    import plotly.express as px\n",
    "    colors_list=[\"red\",\"blue\",\"gray\",\"green\",\"orange\",\"purple\",\"yellow\",\"brown\",\"black\",\"pink\"]\n",
    "    colors_list=list(map(matplotlib.colors.to_rgb,colors_list))\n",
    "    colors_list=[\"rgba\"+str(tuple(color) + (0.4, )) for color in colors_list ]\n",
    "\n",
    "    node_colors={}\n",
    "\n",
    "    for idx, node in enumerate(list(set(source+target))):\n",
    "        node_colors[node]=colors_list[idx]\n",
    "\n",
    "        \n",
    "    fig = go.Figure(data=[go.Sankey(\n",
    "        node = dict(\n",
    "          pad = 15,\n",
    "          thickness = 20,\n",
    "          line = dict(color = \"black\", width = 0.5),\n",
    "          label = label_list,\n",
    "          color = colors_list\n",
    "        ),\n",
    "        link = dict(\n",
    "          source = source,\n",
    "          target = target,\n",
    "          value = value,\n",
    "         color=[node_colors[s] for s in  source]\n",
    "        ))])\n",
    "\n",
    "    fig.update_layout(title_text=title, font_size=20)\n",
    "    fig.write_html(\"../docs/\"+title+\".html\")\n",
    "    \n"
   ]
  },
  {
   "cell_type": "markdown",
   "metadata": {
    "id": "lx2X6woi1Jco"
   },
   "source": [
    "- Mod to DC-SBM\n",
    "- SBM to DC-SBM"
   ]
  },
  {
   "cell_type": "code",
   "execution_count": null,
   "metadata": {
    "colab": {
     "base_uri": "https://localhost:8080/",
     "height": 542
    },
    "id": "q4NBAQRkju1X",
    "outputId": "0ca46fdb-c842-4049-986c-18874e287c3b"
   },
   "outputs": [],
   "source": [
    "save_sankey_chart_from_to(\n",
    "    from_df=modularity_blocks,\n",
    "    to_df=c_df,\n",
    "    title=\"Modularity to Degree Corrected SBM Flow\")\n",
    "\n",
    "\n",
    "save_sankey_chart_from_to(\n",
    "    from_df=sbm_blocks_df,\n",
    "    to_df=dcsbm_blocks_df,\n",
    "    title=\"SBM to Degree Corrected SBM Flow\")\n"
   ]
  }
 ],
 "metadata": {
  "colab": {
   "collapsed_sections": [],
   "name": "community structure comp.ipynb",
   "provenance": [],
   "toc_visible": true
  },
  "kernelspec": {
   "display_name": "Python 3 (ipykernel)",
   "language": "python",
   "name": "python3"
  },
  "language_info": {
   "codemirror_mode": {
    "name": "ipython",
    "version": 3
   },
   "file_extension": ".py",
   "mimetype": "text/x-python",
   "name": "python",
   "nbconvert_exporter": "python",
   "pygments_lexer": "ipython3",
   "version": "3.10.1"
  }
 },
 "nbformat": 4,
 "nbformat_minor": 4
}
